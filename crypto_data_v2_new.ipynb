{
 "cells": [
  {
   "cell_type": "code",
   "execution_count": 2,
   "metadata": {},
   "outputs": [],
   "source": [
    "import ccxt\n",
    "import pandas as pd \n",
    "import numpy as np\n",
    "import datetime\n",
    "import pandas as pd \n",
    "import numpy as np\n",
    "import random\n",
    "import datetime\n",
    "import sklearn.linear_model as skl_lm\n",
    "import matplotlib.pyplot as plt \n",
    "import utilities as utils\n",
    "import fractionalDiff as fd\n",
    "import pickle\n",
    "import scipy.stats as sps\n",
    "from sys import exit\n",
    "import torch \n",
    "import torch.nn as nn\n",
    "import time\n",
    "\n",
    "device = (torch.device('cuda') if torch.cuda.is_available() else torch.device('cpu'))"
   ]
  },
  {
   "cell_type": "code",
   "execution_count": 3,
   "metadata": {},
   "outputs": [
    {
     "name": "stdout",
     "output_type": "stream",
     "text": [
      "['aax', 'ascendex', 'bequant', 'bibox', 'bigone', 'binance', 'binancecoinm', 'binanceus', 'binanceusdm', 'bit2c', 'bitbank', 'bitbay', 'bitbns', 'bitcoincom', 'bitfinex', 'bitfinex2', 'bitflyer', 'bitforex', 'bitget', 'bithumb', 'bitmart', 'bitmex', 'bitopro', 'bitpanda', 'bitrue', 'bitso', 'bitstamp', 'bitstamp1', 'bittrex', 'bitvavo', 'bkex', 'bl3p', 'blockchaincom', 'btcalpha', 'btcbox', 'btcmarkets', 'btctradeua', 'btcturk', 'buda', 'bw', 'bybit', 'bytetrade', 'cdax', 'cex', 'coinbase', 'coinbaseprime', 'coinbasepro', 'coincheck', 'coinex', 'coinfalcon', 'coinflex', 'coinmate', 'coinone', 'coinspot', 'crex24', 'cryptocom', 'currencycom', 'delta', 'deribit', 'digifinex', 'eqonex', 'exmo', 'flowbtc', 'fmfwio', 'ftx', 'ftxus', 'gateio', 'gemini', 'hitbtc', 'hitbtc3', 'hollaex', 'huobi', 'huobijp', 'huobipro', 'idex', 'independentreserve', 'indodax', 'itbit', 'kraken', 'kucoin', 'kucoinfutures', 'kuna', 'latoken', 'lbank', 'lbank2', 'liquid', 'luno', 'lykke', 'mercado', 'mexc', 'mexc3', 'ndax', 'novadax', 'oceanex', 'okcoin', 'okex', 'okex5', 'okx', 'paymium', 'phemex', 'poloniex', 'probit', 'qtrade', 'ripio', 'stex', 'therock', 'tidebit', 'tidex', 'timex', 'upbit', 'vcc', 'wavesexchange', 'wazirx', 'whitebit', 'woo', 'xena', 'yobit', 'zaif', 'zb', 'zipmex', 'zonda']\n"
     ]
    }
   ],
   "source": [
    "print(ccxt.exchanges)"
   ]
  },
  {
   "cell_type": "code",
   "execution_count": 4,
   "metadata": {},
   "outputs": [],
   "source": [
    "binanceXch = ccxt.binance()"
   ]
  },
  {
   "cell_type": "code",
   "execution_count": 6,
   "metadata": {},
   "outputs": [
    {
     "data": {
      "text/plain": [
       "array([1])"
      ]
     },
     "execution_count": 6,
     "metadata": {},
     "output_type": "execute_result"
    }
   ],
   "source": [
    "btc_usdt_ohlcv = binanceXch.fetch_ohlcv('BTC/USDT','15m', limit = 300)\n",
    "candles = pd.DataFrame(btc_usdt_ohlcv, columns = ['date', 'open', 'high', 'low', 'close', 'volume'])\n",
    "\n",
    "candles['date'] = candles['date'].apply(lambda x: datetime.datetime.fromtimestamp(x // 1000))\n",
    "\n",
    "rollWindows = [4, 6, 12, 16, 18, 20, 22, 24, 30, 48]\n",
    "\n",
    "for rollWindow in rollWindows:\n",
    "    window_size = 4\n",
    "    mean = candles['close']\n",
    "    mean = mean.rolling(window=rollWindow).mean()\n",
    "    candles[f'ma_{str(rollWindow).zfill(2)}'] = mean\n",
    "\n",
    "\n",
    "candles = candles[window_size:]\n",
    "candles = candles.reset_index()\n",
    "candles\n",
    "\n",
    "bitcoin = pd.DataFrame()\n",
    "bitcoin['date'] = candles['date']\n",
    "bitcoin['indicator'] = ((candles['close'] - candles['open']) >= 0)*2-1\n",
    "\n",
    "candles.reset_index().drop(columns = 'index', inplace=True)\n",
    "candles.drop(columns = 'index', inplace=True)\n",
    "candles\n",
    "\n",
    "candles.to_excel('./data/candles.xlsx', engine='openpyxl',index = False)\n",
    "bitcoin.to_excel('./data/bitcoin.xlsx', engine='openpyxl',index = False)\n",
    "\n",
    "inputs = candles\n",
    "inputVariables = inputs.columns[1:]\n",
    "logicOutputs = bitcoin\n",
    "tickers = ['indicator']\n",
    "\n",
    "\n",
    "differenceOrder = 0.8 \n",
    "window = 13\n",
    "lags = 50\n",
    "\n",
    "transformedInputs = fd.FractionallyDifferentiateInputs(inputs, inputVariables, order = differenceOrder, thresholdVal = lags)[lags:].reset_index()\n",
    "currentDate = transformedInputs.iloc[-1]['date']\n",
    "startDateIdx = transformedInputs.index[transformedInputs.date == currentDate][0] - window - 2 \n",
    "stopDateIdx = transformedInputs.index[transformedInputs.date == currentDate][0] - 2\n",
    "startDate = transformedInputs.date[startDateIdx]\n",
    "stopDate = transformedInputs.date[stopDateIdx]\n",
    "\n",
    "inputsToScale = utils.FilterInputs(transformedInputs, startDate, stopDate)\n",
    "logicOutputsShifted = logicOutputs[lags:]\n",
    "x, y = utils.SelectAndScale(inputsToScale, logicOutputsShifted, startDate, stopDate, tickers[0], alreadyScaled = False)\n",
    "x.shape, y.shape\n",
    "\n",
    "finalModel = skl_lm.LogisticRegression(random_state=0, verbose = 0).fit(x, y)\n",
    "finalModel.predict(x[-1].reshape((1,-1)))"
   ]
  },
  {
   "cell_type": "code",
   "execution_count": 12,
   "metadata": {},
   "outputs": [
    {
     "data": {
      "text/plain": [
       "array([-1])"
      ]
     },
     "execution_count": 12,
     "metadata": {},
     "output_type": "execute_result"
    }
   ],
   "source": [
    "\n"
   ]
  },
  {
   "cell_type": "code",
   "execution_count": 7,
   "metadata": {},
   "outputs": [
    {
     "data": {
      "text/plain": [
       "630   -1\n",
       "631    1\n",
       "632   -1\n",
       "633   -1\n",
       "634   -1\n",
       "635    1\n",
       "636    1\n",
       "637   -1\n",
       "638    1\n",
       "639   -1\n",
       "640    1\n",
       "641    1\n",
       "642    1\n",
       "643   -1\n",
       "dtype: int32"
      ]
     },
     "execution_count": 7,
     "metadata": {},
     "output_type": "execute_result"
    }
   ],
   "source": [
    "a = 2 * (inputs.loc[(inputs.date>=startDate) & (inputs.date<=stopDate), 'close'] - inputs.loc[(inputs.date>=startDate) & (inputs.date<=stopDate), 'open'] >= 0) - 1\n",
    "a"
   ]
  }
 ],
 "metadata": {
  "interpreter": {
   "hash": "999a60a870fabce504eb4b851a4acd893ce836ff9f42df8ffe446ea4e724acbf"
  },
  "kernelspec": {
   "display_name": "Python 3.9.6 ('algo-trading-venv': venv)",
   "language": "python",
   "name": "python3"
  },
  "language_info": {
   "codemirror_mode": {
    "name": "ipython",
    "version": 3
   },
   "file_extension": ".py",
   "mimetype": "text/x-python",
   "name": "python",
   "nbconvert_exporter": "python",
   "pygments_lexer": "ipython3",
   "version": "3.9.6"
  },
  "orig_nbformat": 4
 },
 "nbformat": 4,
 "nbformat_minor": 2
}
