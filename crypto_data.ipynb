{
 "cells": [
  {
   "cell_type": "code",
   "execution_count": 12,
   "metadata": {},
   "outputs": [],
   "source": [
    "from Historic_Crypto import HistoricalData\n",
    "from sklearn.preprocessing import MinMaxScaler\n",
    "import pandas as pd"
   ]
  },
  {
   "cell_type": "code",
   "execution_count": 13,
   "metadata": {},
   "outputs": [],
   "source": [
    "#ETH\n",
    "#ADA\n",
    "#BTC\n",
    "#SOL\n",
    "#DOT\n",
    "#APE\n",
    "\n",
    "\n",
    "\n",
    "\n",
    "\n",
    "\n",
    "#LUNA\n",
    "#CELO\n",
    "#KSM\n",
    "#ALGO\n",
    "#CAKE"
   ]
  },
  {
   "cell_type": "code",
   "execution_count": 14,
   "metadata": {},
   "outputs": [
    {
     "name": "stdout",
     "output_type": "stream",
     "text": [
      "Checking input parameters are in the correct format.\n",
      "Formatting Dates.\n",
      "Checking if user supplied is available on the CoinBase Pro API.\n",
      "Connected to the CoinBase Pro API.\n",
      "Ticker 'BTC-USD' found at the CoinBase Pro API, continuing to extraction.\n",
      "Provisional Start: 2022-05-01T00:00:00\n",
      "Provisional End: 2022-05-13T12:00:00\n",
      "Data for chunk 1 of 3 extracted\n"
     ]
    },
    {
     "name": "stderr",
     "output_type": "stream",
     "text": [
      "/home/matteo/Desktop/codes/Hilbert-Poincare/QuantDeFi/venv/lib/python3.8/site-packages/Historic_Crypto/HistoricalData.py:176: FutureWarning: The frame.append method is deprecated and will be removed from pandas in a future version. Use pandas.concat instead.\n",
      "  data = data.append(dataset)\n"
     ]
    },
    {
     "name": "stdout",
     "output_type": "stream",
     "text": [
      "Provisional Start: 2022-05-13T12:00:00\n",
      "Provisional End: 2022-05-26T00:00:00\n",
      "Data for chunk 2 of 3 extracted\n",
      "Provisional Start: 2022-05-26T00:00:00\n",
      "Provisional End: 2022-06-07T12:00:00\n",
      "Data for chunk 3 of 3 extracted\n"
     ]
    }
   ],
   "source": [
    "#60, 30, 900, 3600, 21600\n",
    "gran = 3600 # 86400 = 1 day\n",
    "startepoch = \"2022-05-01-00-00\"\n",
    "endepoch = \"2022-05-31-00-00\"\n",
    "\n",
    "candles= HistoricalData(\n",
    "    ticker=\"BTC-USD\", \n",
    "    granularity=gran, \n",
    "    start_date=startepoch,\n",
    "    end_date=endepoch\n",
    ").retrieve_data()"
   ]
  },
  {
   "cell_type": "code",
   "execution_count": 15,
   "metadata": {},
   "outputs": [],
   "source": [
    "window_size = 10\n",
    "mean = candles['close']\n",
    "mean = mean.rolling(window=window_size).mean()\n",
    "# std_dev = candles['close']\n",
    "# std_dev = std_dev.rolling(window=window_size).std()\n",
    "\n",
    "rollWindows = [4, 6, 12, 16, 18, 20, 22, 24, 30, 48]\n",
    "\n",
    "for rollWindow in rollWindows:\n",
    "    window_size = 4\n",
    "    mean = candles['close']\n",
    "    mean = mean.rolling(window=rollWindow).mean()\n",
    "    candles[f'ma_{str(rollWindow).zfill(2)}'] = mean\n",
    "\n",
    "\n",
    "# candles['UpperBB'] = mean + (2 * std_dev)\n",
    "# candles['LowerBB'] = mean - (2 * std_dev)\n",
    "\n",
    "candles = candles[window_size:]\n",
    "candles = candles.reset_index()"
   ]
  },
  {
   "cell_type": "code",
   "execution_count": 16,
   "metadata": {},
   "outputs": [],
   "source": [
    "bitcoin = pd.DataFrame()\n",
    "bitcoin['time'] = candles['time']\n",
    "bitcoin['indicator'] = ((candles['close'] - candles['open']) >= 0)*2-1\n",
    "\n",
    "candles.rename(columns={'time':'date'}, inplace=True)\n",
    "bitcoin.rename(columns={'time':'date'}, inplace=True)"
   ]
  },
  {
   "cell_type": "code",
   "execution_count": 17,
   "metadata": {},
   "outputs": [
    {
     "data": {
      "text/html": [
       "<div>\n",
       "<style scoped>\n",
       "    .dataframe tbody tr th:only-of-type {\n",
       "        vertical-align: middle;\n",
       "    }\n",
       "\n",
       "    .dataframe tbody tr th {\n",
       "        vertical-align: top;\n",
       "    }\n",
       "\n",
       "    .dataframe thead th {\n",
       "        text-align: right;\n",
       "    }\n",
       "</style>\n",
       "<table border=\"1\" class=\"dataframe\">\n",
       "  <thead>\n",
       "    <tr style=\"text-align: right;\">\n",
       "      <th></th>\n",
       "      <th>date</th>\n",
       "      <th>indicator</th>\n",
       "    </tr>\n",
       "  </thead>\n",
       "  <tbody>\n",
       "    <tr>\n",
       "      <th>0</th>\n",
       "      <td>2022-05-01 05:00:00</td>\n",
       "      <td>1</td>\n",
       "    </tr>\n",
       "    <tr>\n",
       "      <th>1</th>\n",
       "      <td>2022-05-01 06:00:00</td>\n",
       "      <td>-1</td>\n",
       "    </tr>\n",
       "    <tr>\n",
       "      <th>2</th>\n",
       "      <td>2022-05-01 07:00:00</td>\n",
       "      <td>1</td>\n",
       "    </tr>\n",
       "    <tr>\n",
       "      <th>3</th>\n",
       "      <td>2022-05-01 08:00:00</td>\n",
       "      <td>1</td>\n",
       "    </tr>\n",
       "    <tr>\n",
       "      <th>4</th>\n",
       "      <td>2022-05-01 09:00:00</td>\n",
       "      <td>-1</td>\n",
       "    </tr>\n",
       "    <tr>\n",
       "      <th>...</th>\n",
       "      <td>...</td>\n",
       "      <td>...</td>\n",
       "    </tr>\n",
       "    <tr>\n",
       "      <th>711</th>\n",
       "      <td>2022-05-30 20:00:00</td>\n",
       "      <td>1</td>\n",
       "    </tr>\n",
       "    <tr>\n",
       "      <th>712</th>\n",
       "      <td>2022-05-30 21:00:00</td>\n",
       "      <td>1</td>\n",
       "    </tr>\n",
       "    <tr>\n",
       "      <th>713</th>\n",
       "      <td>2022-05-30 22:00:00</td>\n",
       "      <td>-1</td>\n",
       "    </tr>\n",
       "    <tr>\n",
       "      <th>714</th>\n",
       "      <td>2022-05-30 23:00:00</td>\n",
       "      <td>-1</td>\n",
       "    </tr>\n",
       "    <tr>\n",
       "      <th>715</th>\n",
       "      <td>2022-05-31 00:00:00</td>\n",
       "      <td>-1</td>\n",
       "    </tr>\n",
       "  </tbody>\n",
       "</table>\n",
       "<p>716 rows × 2 columns</p>\n",
       "</div>"
      ],
      "text/plain": [
       "                   date  indicator\n",
       "0   2022-05-01 05:00:00          1\n",
       "1   2022-05-01 06:00:00         -1\n",
       "2   2022-05-01 07:00:00          1\n",
       "3   2022-05-01 08:00:00          1\n",
       "4   2022-05-01 09:00:00         -1\n",
       "..                  ...        ...\n",
       "711 2022-05-30 20:00:00          1\n",
       "712 2022-05-30 21:00:00          1\n",
       "713 2022-05-30 22:00:00         -1\n",
       "714 2022-05-30 23:00:00         -1\n",
       "715 2022-05-31 00:00:00         -1\n",
       "\n",
       "[716 rows x 2 columns]"
      ]
     },
     "execution_count": 17,
     "metadata": {},
     "output_type": "execute_result"
    }
   ],
   "source": [
    "bitcoin"
   ]
  },
  {
   "cell_type": "code",
   "execution_count": 19,
   "metadata": {},
   "outputs": [],
   "source": [
    "candles.to_excel('data/candles.xlsx', engine='openpyxl',index = False)\n",
    "bitcoin.to_excel('data/bitcoin.xlsx', engine='openpyxl',index = False)"
   ]
  },
  {
   "cell_type": "code",
   "execution_count": null,
   "metadata": {},
   "outputs": [],
   "source": []
  }
 ],
 "metadata": {
  "interpreter": {
   "hash": "a14eddc6a985eb9f91e61665803791b60a7507c6bbd3d8ce89908383f0fdaf37"
  },
  "kernelspec": {
   "display_name": "Python 3.8.10 ('venv': venv)",
   "language": "python",
   "name": "python3"
  },
  "language_info": {
   "codemirror_mode": {
    "name": "ipython",
    "version": 3
   },
   "file_extension": ".py",
   "mimetype": "text/x-python",
   "name": "python",
   "nbconvert_exporter": "python",
   "pygments_lexer": "ipython3",
   "version": "3.8.10"
  },
  "orig_nbformat": 4
 },
 "nbformat": 4,
 "nbformat_minor": 2
}
